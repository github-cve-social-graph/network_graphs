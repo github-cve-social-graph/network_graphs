{
 "cells": [
  {
   "cell_type": "code",
   "execution_count": 76,
   "metadata": {},
   "outputs": [],
   "source": [
    "import pandas as pd\n",
    "import itertools"
   ]
  },
  {
   "cell_type": "code",
   "execution_count": 77,
   "metadata": {},
   "outputs": [],
   "source": [
    "data = {\"user\": [\"erin\", \"erica\", \"jeremy\", \"erin\", \"erica\", \"erica\", \"jeremy\", \"erin\", \"erica\"], \\\n",
    "       \"repo\": [\"repo1\", \"repo1\", \"repo1\", \"repo2\", \"repo2\", \"repo3\", \"repo3\", \"repo4\", \"repo4\"]}"
   ]
  },
  {
   "cell_type": "code",
   "execution_count": 78,
   "metadata": {},
   "outputs": [
    {
     "data": {
      "text/html": [
       "<div>\n",
       "<style scoped>\n",
       "    .dataframe tbody tr th:only-of-type {\n",
       "        vertical-align: middle;\n",
       "    }\n",
       "\n",
       "    .dataframe tbody tr th {\n",
       "        vertical-align: top;\n",
       "    }\n",
       "\n",
       "    .dataframe thead th {\n",
       "        text-align: right;\n",
       "    }\n",
       "</style>\n",
       "<table border=\"1\" class=\"dataframe\">\n",
       "  <thead>\n",
       "    <tr style=\"text-align: right;\">\n",
       "      <th></th>\n",
       "      <th>user</th>\n",
       "      <th>repo</th>\n",
       "    </tr>\n",
       "  </thead>\n",
       "  <tbody>\n",
       "    <tr>\n",
       "      <th>0</th>\n",
       "      <td>erin</td>\n",
       "      <td>repo1</td>\n",
       "    </tr>\n",
       "    <tr>\n",
       "      <th>1</th>\n",
       "      <td>erica</td>\n",
       "      <td>repo1</td>\n",
       "    </tr>\n",
       "    <tr>\n",
       "      <th>2</th>\n",
       "      <td>jeremy</td>\n",
       "      <td>repo1</td>\n",
       "    </tr>\n",
       "    <tr>\n",
       "      <th>3</th>\n",
       "      <td>erin</td>\n",
       "      <td>repo2</td>\n",
       "    </tr>\n",
       "    <tr>\n",
       "      <th>4</th>\n",
       "      <td>erica</td>\n",
       "      <td>repo2</td>\n",
       "    </tr>\n",
       "    <tr>\n",
       "      <th>5</th>\n",
       "      <td>erica</td>\n",
       "      <td>repo3</td>\n",
       "    </tr>\n",
       "    <tr>\n",
       "      <th>6</th>\n",
       "      <td>jeremy</td>\n",
       "      <td>repo3</td>\n",
       "    </tr>\n",
       "    <tr>\n",
       "      <th>7</th>\n",
       "      <td>erin</td>\n",
       "      <td>repo4</td>\n",
       "    </tr>\n",
       "    <tr>\n",
       "      <th>8</th>\n",
       "      <td>erica</td>\n",
       "      <td>repo4</td>\n",
       "    </tr>\n",
       "  </tbody>\n",
       "</table>\n",
       "</div>"
      ],
      "text/plain": [
       "     user   repo\n",
       "0    erin  repo1\n",
       "1   erica  repo1\n",
       "2  jeremy  repo1\n",
       "3    erin  repo2\n",
       "4   erica  repo2\n",
       "5   erica  repo3\n",
       "6  jeremy  repo3\n",
       "7    erin  repo4\n",
       "8   erica  repo4"
      ]
     },
     "execution_count": 78,
     "metadata": {},
     "output_type": "execute_result"
    }
   ],
   "source": [
    "df = pd.DataFrame(data=data)\n",
    "df"
   ]
  },
  {
   "cell_type": "code",
   "execution_count": 79,
   "metadata": {},
   "outputs": [],
   "source": [
    "users = list(df[\"user\"].unique()) # get unique users\n",
    "dic = {}\n",
    "\n",
    "for user in users:\n",
    "    repos = list(df.loc[df[\"user\"] == user][\"repo\"]) # for each user, get list of repos for that user\n",
    "    dic[user] = repos"
   ]
  },
  {
   "cell_type": "code",
   "execution_count": 80,
   "metadata": {},
   "outputs": [
    {
     "data": {
      "text/plain": [
       "{'erin': ['repo1', 'repo2', 'repo4'],\n",
       " 'erica': ['repo1', 'repo2', 'repo3', 'repo4'],\n",
       " 'jeremy': ['repo1', 'repo3']}"
      ]
     },
     "execution_count": 80,
     "metadata": {},
     "output_type": "execute_result"
    }
   ],
   "source": [
    "dic"
   ]
  },
  {
   "cell_type": "code",
   "execution_count": 81,
   "metadata": {},
   "outputs": [
    {
     "name": "stdout",
     "output_type": "stream",
     "text": [
      "erin erica\n",
      "{'repo1', 'repo4', 'repo2'}\n",
      "erin jeremy\n",
      "{'repo1'}\n",
      "erica jeremy\n",
      "{'repo1', 'repo3'}\n"
     ]
    }
   ],
   "source": [
    "rows = []\n",
    "for k1, k2 in itertools.combinations(dic, 2): # get all pair combinations of keys (users)\n",
    "    print(k1, k2) # can comment these print statements out\n",
    "    print(set(dic[k1]) & set(dic[k2]))\n",
    "    count = len(set(dic[k1]) & set(dic[k2])) # find number of repos in common between the two users\n",
    "    rows.append([k1, k2, count])"
   ]
  },
  {
   "cell_type": "code",
   "execution_count": 82,
   "metadata": {},
   "outputs": [],
   "source": [
    "df_user = pd.DataFrame(rows, columns = [\"user1\", \"user2\", \"count\"]) # create dataframe with pair of users and num of repos in common"
   ]
  },
  {
   "cell_type": "code",
   "execution_count": 83,
   "metadata": {},
   "outputs": [
    {
     "data": {
      "text/html": [
       "<div>\n",
       "<style scoped>\n",
       "    .dataframe tbody tr th:only-of-type {\n",
       "        vertical-align: middle;\n",
       "    }\n",
       "\n",
       "    .dataframe tbody tr th {\n",
       "        vertical-align: top;\n",
       "    }\n",
       "\n",
       "    .dataframe thead th {\n",
       "        text-align: right;\n",
       "    }\n",
       "</style>\n",
       "<table border=\"1\" class=\"dataframe\">\n",
       "  <thead>\n",
       "    <tr style=\"text-align: right;\">\n",
       "      <th></th>\n",
       "      <th>user1</th>\n",
       "      <th>user2</th>\n",
       "      <th>count</th>\n",
       "    </tr>\n",
       "  </thead>\n",
       "  <tbody>\n",
       "    <tr>\n",
       "      <th>0</th>\n",
       "      <td>erin</td>\n",
       "      <td>erica</td>\n",
       "      <td>3</td>\n",
       "    </tr>\n",
       "    <tr>\n",
       "      <th>1</th>\n",
       "      <td>erin</td>\n",
       "      <td>jeremy</td>\n",
       "      <td>1</td>\n",
       "    </tr>\n",
       "    <tr>\n",
       "      <th>2</th>\n",
       "      <td>erica</td>\n",
       "      <td>jeremy</td>\n",
       "      <td>2</td>\n",
       "    </tr>\n",
       "  </tbody>\n",
       "</table>\n",
       "</div>"
      ],
      "text/plain": [
       "   user1   user2  count\n",
       "0   erin   erica      3\n",
       "1   erin  jeremy      1\n",
       "2  erica  jeremy      2"
      ]
     },
     "execution_count": 83,
     "metadata": {},
     "output_type": "execute_result"
    }
   ],
   "source": [
    "df_user"
   ]
  }
 ],
 "metadata": {
  "kernelspec": {
   "display_name": "Python 3",
   "language": "python",
   "name": "python3"
  },
  "language_info": {
   "codemirror_mode": {
    "name": "ipython",
    "version": 3
   },
   "file_extension": ".py",
   "mimetype": "text/x-python",
   "name": "python",
   "nbconvert_exporter": "python",
   "pygments_lexer": "ipython3",
   "version": "3.6.11"
  }
 },
 "nbformat": 4,
 "nbformat_minor": 4
}
