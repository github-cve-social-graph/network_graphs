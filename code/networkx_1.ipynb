{
 "cells": [
  {
   "cell_type": "code",
   "execution_count": 1,
   "metadata": {},
   "outputs": [],
   "source": [
    "import pandas as pd \n",
    "import numpy as np\n",
    "from functools import partial, reduce\n",
    "import networkx as nx \n",
    "import glob \n",
    "import os\n",
    "import itertools"
   ]
  },
  {
   "cell_type": "code",
   "execution_count": 2,
   "metadata": {},
   "outputs": [],
   "source": [
    "## Change to local path of where your CSV files are located\n",
    "path = r\"C:\\Users\\erica\\OneDrive - University of Southern California\\Projects_at_USC\\CKIDS_Fa2020_Social_Graph_Analysis\\code\\test_data\"\n",
    "\n",
    "all_files = glob.glob(os.path.join(path, \"*.csv\"))  "
   ]
  },
  {
   "cell_type": "markdown",
   "metadata": {},
   "source": [
    "## Read all CSV files in `data` folder into Pandas df"
   ]
  },
  {
   "cell_type": "code",
   "execution_count": 3,
   "metadata": {},
   "outputs": [
    {
     "name": "stdout",
     "output_type": "stream",
     "text": [
      "Processing 25 repos data:\n",
      "\n",
      "aapanel\n",
      "BlackCatCMS\n",
      "bludit\n",
      "BugReport\n",
      "cabot\n",
      "cJSON\n",
      "Codiad\n",
      "contiki-ng\n",
      "cryptacular\n",
      "CSS-injection-in-Swagger-UI\n",
      "CVE-2020-11579\n",
      "CVE-2020-25270\n",
      "CVE-2020-25272\n",
      "CVE-2020-25273\n",
      "CVE-2020-25487\n",
      "cve-pocs\n",
      "CVEnotes\n",
      "CVEs\n",
      "devise\n",
      "Disclosures\n",
      "dotplant2\n",
      "envoy\n",
      "FA\n",
      "Fluid\n",
      "fosite\n"
     ]
    }
   ],
   "source": [
    "df_list = []\n",
    "\n",
    "print(f\"Processing {len(all_files)} repos data:\\n\")\n",
    "\n",
    "for f in all_files:\n",
    "    path_list = f.split(\"\\\\\")\n",
    "    f_name = path_list[-1]\n",
    "    f_name2 = f_name.split(\"stargazers_\")[1]\n",
    "    repo_name = f_name2.split(\".csv\")[0]   # final repo name\n",
    "    print(repo_name) \n",
    "    df_from_file = pd.read_csv(f)\n",
    "    df_from_file['repo_name'] = repo_name\n",
    "    df_list.append(df_from_file)"
   ]
  },
  {
   "cell_type": "code",
   "execution_count": 4,
   "metadata": {},
   "outputs": [
    {
     "name": "stdout",
     "output_type": "stream",
     "text": [
      "(31675, 4)\n"
     ]
    }
   ],
   "source": [
    "df_concat = pd.concat(df_list, ignore_index=True)\n",
    "print(df_concat.shape)"
   ]
  },
  {
   "cell_type": "code",
   "execution_count": 5,
   "metadata": {},
   "outputs": [
    {
     "data": {
      "text/html": [
       "<div>\n",
       "<style scoped>\n",
       "    .dataframe tbody tr th:only-of-type {\n",
       "        vertical-align: middle;\n",
       "    }\n",
       "\n",
       "    .dataframe tbody tr th {\n",
       "        vertical-align: top;\n",
       "    }\n",
       "\n",
       "    .dataframe thead th {\n",
       "        text-align: right;\n",
       "    }\n",
       "</style>\n",
       "<table border=\"1\" class=\"dataframe\">\n",
       "  <thead>\n",
       "    <tr style=\"text-align: right;\">\n",
       "      <th></th>\n",
       "      <th>username</th>\n",
       "      <th>name</th>\n",
       "      <th>numberOfReposStarred</th>\n",
       "      <th>repo_name</th>\n",
       "    </tr>\n",
       "  </thead>\n",
       "  <tbody>\n",
       "    <tr>\n",
       "      <th>0</th>\n",
       "      <td>AnthonyH45</td>\n",
       "      <td>UCR</td>\n",
       "      <td>1954</td>\n",
       "      <td>aapanel</td>\n",
       "    </tr>\n",
       "    <tr>\n",
       "      <th>1</th>\n",
       "      <td>webbird</td>\n",
       "      <td>NaN</td>\n",
       "      <td>61</td>\n",
       "      <td>BlackCatCMS</td>\n",
       "    </tr>\n",
       "    <tr>\n",
       "      <th>2</th>\n",
       "      <td>schoensee</td>\n",
       "      <td>NaN</td>\n",
       "      <td>1</td>\n",
       "      <td>BlackCatCMS</td>\n",
       "    </tr>\n",
       "  </tbody>\n",
       "</table>\n",
       "</div>"
      ],
      "text/plain": [
       "     username name  numberOfReposStarred    repo_name\n",
       "0  AnthonyH45  UCR                  1954      aapanel\n",
       "1     webbird  NaN                    61  BlackCatCMS\n",
       "2   schoensee  NaN                     1  BlackCatCMS"
      ]
     },
     "execution_count": 5,
     "metadata": {},
     "output_type": "execute_result"
    }
   ],
   "source": [
    "df_concat.head(3)"
   ]
  },
  {
   "cell_type": "code",
   "execution_count": 6,
   "metadata": {},
   "outputs": [],
   "source": [
    "df_names = df_concat[['username','repo_name']]"
   ]
  },
  {
   "cell_type": "code",
   "execution_count": 7,
   "metadata": {},
   "outputs": [
    {
     "name": "stdout",
     "output_type": "stream",
     "text": [
      "(31675, 2)\n"
     ]
    }
   ],
   "source": [
    "print(df_names.shape)\n",
    "# df_names['username'].nunique()"
   ]
  },
  {
   "cell_type": "markdown",
   "metadata": {},
   "source": [
    "# Format the data"
   ]
  },
  {
   "cell_type": "code",
   "execution_count": 8,
   "metadata": {},
   "outputs": [
    {
     "name": "stdout",
     "output_type": "stream",
     "text": [
      "(2270, 2)\n"
     ]
    }
   ],
   "source": [
    "## drop all usernames which are NOT duplicates (e.g. they only starred one repo)\n",
    "df0 = df_names[df_names.duplicated(subset='username', keep=False)]\n",
    "print(df0.shape)"
   ]
  },
  {
   "cell_type": "code",
   "execution_count": 10,
   "metadata": {},
   "outputs": [
    {
     "data": {
      "text/plain": [
       "21"
      ]
     },
     "execution_count": 10,
     "metadata": {},
     "output_type": "execute_result"
    }
   ],
   "source": [
    "# df0.head(5)\n",
    "df0['repo_name'].nunique()"
   ]
  },
  {
   "cell_type": "code",
   "execution_count": 11,
   "metadata": {},
   "outputs": [],
   "source": [
    "df = df0.copy()\n",
    "df.columns = ['user', 'repo']"
   ]
  },
  {
   "cell_type": "markdown",
   "metadata": {},
   "source": [
    "# Create Edge List\n",
    "Code contributed by Erin"
   ]
  },
  {
   "cell_type": "code",
   "execution_count": 12,
   "metadata": {},
   "outputs": [],
   "source": [
    "users = list(df[\"user\"].unique()) # get unique users\n",
    "dic = {}\n",
    "\n",
    "for user in users:\n",
    "    repos = list(df.loc[df[\"user\"] == user][\"repo\"]) # for each user, get list of repos for that user\n",
    "    dic[user] = repos"
   ]
  },
  {
   "cell_type": "code",
   "execution_count": 13,
   "metadata": {},
   "outputs": [],
   "source": [
    "rows = []\n",
    "for k1, k2 in itertools.combinations(dic, 2): # get all pair combinations of keys (users)\n",
    "   # print(k1, k2) # can comment these print statements out\n",
    "   # print(set(dic[k1]) & set(dic[k2]))\n",
    "    count = len(set(dic[k1]) & set(dic[k2])) # find number of repos in common between the two users\n",
    "    rows.append([k1, k2, count])"
   ]
  },
  {
   "cell_type": "code",
   "execution_count": 14,
   "metadata": {},
   "outputs": [],
   "source": [
    "df_user = pd.DataFrame(rows, columns = [\"user1\", \"user2\", \"count\"]) # create dataframe with pair of users and num of repos in common"
   ]
  },
  {
   "cell_type": "code",
   "execution_count": 15,
   "metadata": {},
   "outputs": [
    {
     "data": {
      "text/plain": [
       "(571915, 3)"
      ]
     },
     "execution_count": 15,
     "metadata": {},
     "output_type": "execute_result"
    }
   ],
   "source": [
    "df_user.shape"
   ]
  },
  {
   "cell_type": "code",
   "execution_count": 16,
   "metadata": {},
   "outputs": [
    {
     "data": {
      "text/html": [
       "<div>\n",
       "<style scoped>\n",
       "    .dataframe tbody tr th:only-of-type {\n",
       "        vertical-align: middle;\n",
       "    }\n",
       "\n",
       "    .dataframe tbody tr th {\n",
       "        vertical-align: top;\n",
       "    }\n",
       "\n",
       "    .dataframe thead th {\n",
       "        text-align: right;\n",
       "    }\n",
       "</style>\n",
       "<table border=\"1\" class=\"dataframe\">\n",
       "  <thead>\n",
       "    <tr style=\"text-align: right;\">\n",
       "      <th></th>\n",
       "      <th>user1</th>\n",
       "      <th>user2</th>\n",
       "      <th>count</th>\n",
       "    </tr>\n",
       "  </thead>\n",
       "  <tbody>\n",
       "    <tr>\n",
       "      <th>0</th>\n",
       "      <td>pbuzdin</td>\n",
       "      <td>iheanyi</td>\n",
       "      <td>1</td>\n",
       "    </tr>\n",
       "    <tr>\n",
       "      <th>1</th>\n",
       "      <td>pbuzdin</td>\n",
       "      <td>badcat</td>\n",
       "      <td>2</td>\n",
       "    </tr>\n",
       "    <tr>\n",
       "      <th>2</th>\n",
       "      <td>pbuzdin</td>\n",
       "      <td>coldwinds</td>\n",
       "      <td>2</td>\n",
       "    </tr>\n",
       "    <tr>\n",
       "      <th>3</th>\n",
       "      <td>pbuzdin</td>\n",
       "      <td>oudommeas</td>\n",
       "      <td>1</td>\n",
       "    </tr>\n",
       "    <tr>\n",
       "      <th>4</th>\n",
       "      <td>pbuzdin</td>\n",
       "      <td>hosseinfs</td>\n",
       "      <td>1</td>\n",
       "    </tr>\n",
       "  </tbody>\n",
       "</table>\n",
       "</div>"
      ],
      "text/plain": [
       "     user1      user2  count\n",
       "0  pbuzdin    iheanyi      1\n",
       "1  pbuzdin     badcat      2\n",
       "2  pbuzdin  coldwinds      2\n",
       "3  pbuzdin  oudommeas      1\n",
       "4  pbuzdin  hosseinfs      1"
      ]
     },
     "execution_count": 16,
     "metadata": {},
     "output_type": "execute_result"
    }
   ],
   "source": [
    "df_user.head()"
   ]
  },
  {
   "cell_type": "code",
   "execution_count": 17,
   "metadata": {},
   "outputs": [
    {
     "name": "stdout",
     "output_type": "stream",
     "text": [
      "There are 1069 unique users\n"
     ]
    }
   ],
   "source": [
    "print(f\"There are {df_user['user2'].nunique()} unique users\")"
   ]
  },
  {
   "cell_type": "code",
   "execution_count": 18,
   "metadata": {},
   "outputs": [
    {
     "data": {
      "text/html": [
       "<div>\n",
       "<style scoped>\n",
       "    .dataframe tbody tr th:only-of-type {\n",
       "        vertical-align: middle;\n",
       "    }\n",
       "\n",
       "    .dataframe tbody tr th {\n",
       "        vertical-align: top;\n",
       "    }\n",
       "\n",
       "    .dataframe thead th {\n",
       "        text-align: right;\n",
       "    }\n",
       "</style>\n",
       "<table border=\"1\" class=\"dataframe\">\n",
       "  <thead>\n",
       "    <tr style=\"text-align: right;\">\n",
       "      <th></th>\n",
       "      <th>user1</th>\n",
       "      <th>user2</th>\n",
       "      <th>count</th>\n",
       "    </tr>\n",
       "  </thead>\n",
       "  <tbody>\n",
       "    <tr>\n",
       "      <th>93535</th>\n",
       "      <td>myfreeweb</td>\n",
       "      <td>edersohe</td>\n",
       "      <td>4</td>\n",
       "    </tr>\n",
       "    <tr>\n",
       "      <th>389330</th>\n",
       "      <td>denji</td>\n",
       "      <td>mrluanma</td>\n",
       "      <td>4</td>\n",
       "    </tr>\n",
       "    <tr>\n",
       "      <th>152218</th>\n",
       "      <td>filipeoliveiraa</td>\n",
       "      <td>edersohe</td>\n",
       "      <td>4</td>\n",
       "    </tr>\n",
       "    <tr>\n",
       "      <th>375701</th>\n",
       "      <td>edersohe</td>\n",
       "      <td>dobestan</td>\n",
       "      <td>4</td>\n",
       "    </tr>\n",
       "    <tr>\n",
       "      <th>151995</th>\n",
       "      <td>filipeoliveiraa</td>\n",
       "      <td>sbusso</td>\n",
       "      <td>4</td>\n",
       "    </tr>\n",
       "    <tr>\n",
       "      <th>...</th>\n",
       "      <td>...</td>\n",
       "      <td>...</td>\n",
       "      <td>...</td>\n",
       "    </tr>\n",
       "    <tr>\n",
       "      <th>231655</th>\n",
       "      <td>charliek</td>\n",
       "      <td>AlexShiLucky</td>\n",
       "      <td>0</td>\n",
       "    </tr>\n",
       "    <tr>\n",
       "      <th>231656</th>\n",
       "      <td>charliek</td>\n",
       "      <td>at86</td>\n",
       "      <td>0</td>\n",
       "    </tr>\n",
       "    <tr>\n",
       "      <th>231657</th>\n",
       "      <td>charliek</td>\n",
       "      <td>armink</td>\n",
       "      <td>0</td>\n",
       "    </tr>\n",
       "    <tr>\n",
       "      <th>157132</th>\n",
       "      <td>Falc</td>\n",
       "      <td>iDings</td>\n",
       "      <td>0</td>\n",
       "    </tr>\n",
       "    <tr>\n",
       "      <th>234364</th>\n",
       "      <td>chrux</td>\n",
       "      <td>mythfish</td>\n",
       "      <td>0</td>\n",
       "    </tr>\n",
       "  </tbody>\n",
       "</table>\n",
       "<p>571915 rows × 3 columns</p>\n",
       "</div>"
      ],
      "text/plain": [
       "                  user1         user2  count\n",
       "93535         myfreeweb      edersohe      4\n",
       "389330            denji      mrluanma      4\n",
       "152218  filipeoliveiraa      edersohe      4\n",
       "375701         edersohe      dobestan      4\n",
       "151995  filipeoliveiraa        sbusso      4\n",
       "...                 ...           ...    ...\n",
       "231655         charliek  AlexShiLucky      0\n",
       "231656         charliek          at86      0\n",
       "231657         charliek        armink      0\n",
       "157132             Falc        iDings      0\n",
       "234364            chrux      mythfish      0\n",
       "\n",
       "[571915 rows x 3 columns]"
      ]
     },
     "execution_count": 18,
     "metadata": {},
     "output_type": "execute_result"
    }
   ],
   "source": [
    "df_user.sort_values('count', ascending=False)"
   ]
  },
  {
   "cell_type": "code",
   "execution_count": 21,
   "metadata": {},
   "outputs": [
    {
     "data": {
      "text/plain": [
       "(99316, 3)"
      ]
     },
     "execution_count": 21,
     "metadata": {},
     "output_type": "execute_result"
    }
   ],
   "source": [
    "## drop where count is <= 1\n",
    "df_user2 = df_user[df_user['count'] >= 2]\n",
    "df_user2.columns = ['source', 'target', 'weight']\n",
    "df_user2.shape"
   ]
  },
  {
   "cell_type": "markdown",
   "metadata": {},
   "source": [
    "## Create User User Graph"
   ]
  },
  {
   "cell_type": "code",
   "execution_count": 22,
   "metadata": {},
   "outputs": [],
   "source": [
    "G = nx.from_pandas_edgelist(df_user2, edge_attr=True)"
   ]
  },
  {
   "cell_type": "code",
   "execution_count": 23,
   "metadata": {},
   "outputs": [
    {
     "name": "stdout",
     "output_type": "stream",
     "text": [
      "Name: \n",
      "Type: Graph\n",
      "Number of nodes: 1062\n",
      "Number of edges: 99316\n",
      "Average degree: 187.0358\n"
     ]
    }
   ],
   "source": [
    "print(nx.info(G))\n",
    "## Num of nodes = num of unique Github users\n",
    "## Num of edges = num of starred repo commonalities between users"
   ]
  },
  {
   "cell_type": "code",
   "execution_count": 24,
   "metadata": {},
   "outputs": [],
   "source": [
    "nx.write_gexf(G, 'user_user_graph_1.gexf')"
   ]
  },
  {
   "cell_type": "code",
   "execution_count": null,
   "metadata": {},
   "outputs": [],
   "source": []
  },
  {
   "cell_type": "code",
   "execution_count": null,
   "metadata": {},
   "outputs": [],
   "source": []
  }
 ],
 "metadata": {
  "kernelspec": {
   "display_name": "Python 3",
   "language": "python",
   "name": "python3"
  },
  "language_info": {
   "codemirror_mode": {
    "name": "ipython",
    "version": 3
   },
   "file_extension": ".py",
   "mimetype": "text/x-python",
   "name": "python",
   "nbconvert_exporter": "python",
   "pygments_lexer": "ipython3",
   "version": "3.7.9"
  }
 },
 "nbformat": 4,
 "nbformat_minor": 4
}